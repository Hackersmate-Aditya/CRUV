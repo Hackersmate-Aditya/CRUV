{
  "metadata": {
    "language_info": {
      "codemirror_mode": {
        "name": "python",
        "version": 3
      },
      "file_extension": ".py",
      "mimetype": "text/x-python",
      "name": "python",
      "nbconvert_exporter": "python",
      "pygments_lexer": "ipython3",
      "version": "3.8"
    },
    "kernelspec": {
      "name": "python",
      "display_name": "Python (Pyodide)",
      "language": "python"
    }
  },
  "nbformat_minor": 4,
  "nbformat": 4,
  "cells": [
    {
      "cell_type": "code",
      "source": "import random\nimport time\n\n# Seed the random number generator\nrandom.seed()\n\nclass Player:\n    def __init__(self, name, batting, bowling, fielding, running, experience):\n        self.name = name\n        self.batting = batting\n        self.bowling = bowling\n        self.fielding = fielding\n        self.running = running\n        self.experience = experience\n\nclass Team:\n    def __init__(self, name, players):\n        self.name = name\n        self.players = players\n        self.captain = None\n        self.num_players = len(players)\n\n    def add_player(self, player):\n        self.players.append(player)\n\n    def select_captain(self):\n        self.captain = random.choice(self.players)\n\n    def choose_bowler(self):\n        return random.choice(self.players)\n\n    def decide_batting_order(self):\n        random.shuffle(self.players)\n        return self.players\n\n    def send_next_batsman(self):\n        return self.players.pop(0)\n\nclass Field:\n    def __init__(self, field_size, fan_ratio, pitch_conditions, home_advantage):\n        self.field_size = field_size\n        self.fan_ratio = fan_ratio\n        self.pitch_conditions = pitch_conditions\n        self.home_advantage = home_advantage\n\nclass Umpire:\n    def __init__(self):\n        self.scores = 0\n        self.wickets = 0\n        self.overs = 0\n\n    def chunk_probabilities(self, probability):\n        return random.random() < probability\n\n    def predict_outcome(self, batsman, bowler):\n        batting_chance = batsman.batting * (1 - bowler.bowling)\n        out_chance = 1 - batting_chance\n        if self.chunk_probabilities(out_chance):\n            return \"out\"\n        else:\n            runs_probabilities = [0, 1, 2, 3, 4, 6]\n            runs_weights = [1 - batsman.fielding, batsman.running, batsman.fielding * 0.5, batsman.fielding * 0.2, batsman.fielding * 0.1, batsman.fielding * 0.05]\n            return str(random.choices(runs_probabilities, weights=runs_weights)[0])\n\nclass Commentator:\n    def __init__(self):\n        pass\n\n    def provide_commentary(self, message):\n        print(message)\n\nclass Match:\n    def __init__(self, team1, team2, field):\n        self.teams = [team1, team2]\n        self.field = field\n        self.umpire = Umpire()\n        self.commentator = Commentator()\n\n    def simulate_ball(self, batsman, bowler):\n        outcome = self.umpire.predict_outcome(batsman, bowler)\n        if outcome == \"out\":\n            self.umpire.wickets += 1\n            self.commentator.provide_commentary(f\"{batsman.name} is out!\")\n            if len(self.teams[0].players) == 0 or self.umpire.wickets == 10:\n                self.commentator.provide_commentary(f\"All out for {self.umpire.scores} runs.\")\n                return False\n        else:\n            runs_scored = int(outcome)\n            self.umpire.scores += runs_scored\n            self.commentator.provide_commentary(f\"{batsman.name} scores {runs_scored} runs.\")\n        return True\n\n    def simulate_innings(self, batting_team, bowling_team):\n        # Reset wickets count at the start of each innings\n        self.umpire.wickets = 0\n\n        self.commentator.provide_commentary(f\"{batting_team.name} is batting.\")\n        self.umpire.overs = 0\n        self.umpire.scores = 0\n\n        batsman_index = 0\n        while self.umpire.overs < 50 and self.umpire.wickets < 10:\n            self.umpire.overs += 1\n            for _ in range(6):\n                batsman = batting_team.players[batsman_index % len(batting_team.players)]\n                bowler = bowling_team.choose_bowler()\n                self.commentator.provide_commentary(f\"{batsman.name} facing {bowler.name}.\")\n                if not self.simulate_ball(batsman, bowler):\n                    break\n                batsman_index += 1\n\n\n    def simulate_match(self):\n        self.teams[0].select_captain()\n        self.teams[1].select_captain()\n        batting_order = [self.teams[0].decide_batting_order(), self.teams[1].decide_batting_order()]\n\n        self.commentator.provide_commentary(\"Match Started!\")\n        self.simulate_innings(self.teams[0], self.teams[1])  # Pass the batting and bowling team here\n        self.teams.reverse()\n        self.umpire.overs = 0\n        self.umpire.scores = 0\n        self.umpire.wickets = 0\n        self.simulate_innings(self.teams[0], self.teams[1])  # Pass the batting and bowling team here\n\n        # Calculate the winning team and wickets_lost\n        if self.umpire.wickets == 0:\n            winning_team = self.teams[0] if self.teams[0].players == batting_order[0] else self.teams[1]\n            wickets_lost = len(self.teams[0].players) - self.umpire.wickets\n            self.umpire.wickets = 0  # Reset the wickets for the second innings\n        else:\n            winning_team = self.teams[0] if self.teams[0].players == batting_order[1] else self.teams[1]\n            wickets_lost = len(winning_team.players) - self.umpire.wickets\n\n        wickets_lost = max(wickets_lost, 0)\n        if wickets_lost == 0:\n            wickets_won = len(winning_team.players)\n        else:\n            wickets_won = self.umpire.wickets\n\n        self.commentator.provide_commentary(f\"{winning_team.name} won by {wickets_won} wickets.\")\n        self.umpire.wickets = 0  # Reset the wickets to 0 for the second innings\n        print(self.umpire.wickets)\n        print(wickets_lost)",
      "metadata": {
        "trusted": true
      },
      "execution_count": 9,
      "outputs": [
        {
          "name": "stdout",
          "text": "Random Number: 0.311997107398427\n",
          "output_type": "stream"
        }
      ]
    },
    {
      "cell_type": "code",
      "source": "\n# Example usage\nif __name__ == \"__main__\":\n    # Create players and teams\n    players_team1 = [\n        Player(\"Player 1\", 0.8, 0.2, 0.99, 0.8, 0.9),\n        Player(\"Player 2\", 0.9, 0.1, 0.95, 0.7, 0.8),\n        Player(\"Player 3\", 0.85, 0.25, 0.98, 0.7, 0.85),\n        Player(\"Player 4\", 0.9, 0.1, 0.97, 0.7, 0.9),\n        Player(\"Player 5\", 0.9, 0.1, 0.97, 0.7, 0.9),\n        Player(\"Player 6\", 0.9, 0.1, 0.97, 0.7, 0.9),\n        Player(\"Player 7\", 0.9, 0.1, 0.97, 0.7, 0.9),\n        Player(\"Player 8\", 0.9, 0.1, 0.97, 0.7, 0.9)\n        # Add more players for Team 1\n    ]\n\n    players_team2 = [\n        Player(\"Player 11\", 0.8, 0.2, 0.99, 0.8, 0.9),\n        Player(\"Player 12\", 0.9, 0.1, 0.95, 0.7, 0.8),\n        Player(\"Player 13\", 0.85, 0.25, 0.98, 0.7, 0.85),\n        Player(\"Player 14\", 0.9, 0.1, 0.97, 0.7, 0.9),\n        Player(\"Player 15\", 0.9, 0.1, 0.97, 0.7, 0.9),\n        Player(\"Player 16\", 0.9, 0.1, 0.97, 0.7, 0.9),\n        Player(\"Player 17\", 0.9, 0.1, 0.97, 0.7, 0.9),\n        Player(\"Player 18\", 0.9, 0.1, 0.97, 0.7, 0.9)        # Add more players for Team 2\n    ]\n\n    team1 = Team(\"Team India\",players_team1)\n    \n\n    team2 = Team(\"Team Australia\",players_team2)\n    \n\n    # Create field\n    field = Field(\"Large\", 0.8, \"Dry\", 0.1)\n\n    # Start match\n    match = Match(team1, team2, field)\n    match.simulate_match()\n",
      "metadata": {
        "trusted": true
      },
      "execution_count": 10,
      "outputs": [
        {
          "name": "stdout",
          "text": "Match Started!\nTeam India is batting.\nPlayer 6 facing Player 16.\nPlayer 6 scores 1 runs.\nPlayer 2 facing Player 18.\nPlayer 2 scores 2 runs.\nPlayer 8 facing Player 15.\nPlayer 8 scores 2 runs.\nPlayer 4 facing Player 11.\nPlayer 4 is out!\nPlayer 3 facing Player 18.\nPlayer 3 scores 1 runs.\nPlayer 1 facing Player 13.\nPlayer 1 is out!\nPlayer 7 facing Player 15.\nPlayer 7 is out!\nPlayer 5 facing Player 12.\nPlayer 5 scores 1 runs.\nPlayer 6 facing Player 17.\nPlayer 6 scores 0 runs.\nPlayer 2 facing Player 17.\nPlayer 2 scores 2 runs.\nPlayer 8 facing Player 18.\nPlayer 8 scores 2 runs.\nPlayer 4 facing Player 12.\nPlayer 4 scores 1 runs.\nPlayer 3 facing Player 17.\nPlayer 3 scores 1 runs.\nPlayer 1 facing Player 14.\nPlayer 1 is out!\nPlayer 7 facing Player 11.\nPlayer 7 is out!\nPlayer 5 facing Player 11.\nPlayer 5 scores 2 runs.\nPlayer 6 facing Player 18.\nPlayer 6 scores 2 runs.\nPlayer 2 facing Player 14.\nPlayer 2 scores 2 runs.\nPlayer 8 facing Player 16.\nPlayer 8 is out!\nPlayer 4 facing Player 16.\nPlayer 4 scores 2 runs.\nPlayer 3 facing Player 14.\nPlayer 3 scores 2 runs.\nPlayer 1 facing Player 18.\nPlayer 1 scores 3 runs.\nPlayer 7 facing Player 18.\nPlayer 7 scores 2 runs.\nPlayer 5 facing Player 12.\nPlayer 5 scores 2 runs.\nPlayer 6 facing Player 17.\nPlayer 6 scores 2 runs.\nPlayer 2 facing Player 15.\nPlayer 2 scores 2 runs.\nPlayer 8 facing Player 18.\nPlayer 8 is out!\nPlayer 4 facing Player 18.\nPlayer 4 is out!\nPlayer 3 facing Player 15.\nPlayer 3 scores 2 runs.\nPlayer 1 facing Player 18.\nPlayer 1 scores 1 runs.\nPlayer 7 facing Player 18.\nPlayer 7 scores 3 runs.\nPlayer 5 facing Player 16.\nPlayer 5 scores 1 runs.\nPlayer 6 facing Player 14.\nPlayer 6 scores 2 runs.\nPlayer 2 facing Player 12.\nPlayer 2 is out!\nPlayer 8 facing Player 18.\nPlayer 8 scores 1 runs.\nPlayer 4 facing Player 13.\nPlayer 4 scores 2 runs.\nPlayer 3 facing Player 12.\nPlayer 3 scores 1 runs.\nPlayer 1 facing Player 17.\nPlayer 1 scores 1 runs.\nPlayer 7 facing Player 18.\nPlayer 7 is out!\nAll out for 48 runs.\nTeam Australia is batting.\nPlayer 17 facing Player 3.\nPlayer 17 scores 1 runs.\nPlayer 16 facing Player 5.\nPlayer 16 scores 1 runs.\nPlayer 13 facing Player 3.\nPlayer 13 scores 1 runs.\nPlayer 12 facing Player 2.\nPlayer 12 scores 0 runs.\nPlayer 18 facing Player 5.\nPlayer 18 scores 4 runs.\nPlayer 11 facing Player 7.\nPlayer 11 scores 1 runs.\nPlayer 15 facing Player 6.\nPlayer 15 is out!\nPlayer 14 facing Player 2.\nPlayer 14 scores 1 runs.\nPlayer 17 facing Player 7.\nPlayer 17 scores 2 runs.\nPlayer 16 facing Player 3.\nPlayer 16 is out!\nPlayer 13 facing Player 6.\nPlayer 13 is out!\nPlayer 12 facing Player 3.\nPlayer 12 is out!\nPlayer 18 facing Player 6.\nPlayer 18 is out!\nPlayer 11 facing Player 3.\nPlayer 11 scores 2 runs.\nPlayer 15 facing Player 6.\nPlayer 15 scores 1 runs.\nPlayer 14 facing Player 1.\nPlayer 14 scores 1 runs.\nPlayer 17 facing Player 6.\nPlayer 17 scores 1 runs.\nPlayer 16 facing Player 5.\nPlayer 16 scores 1 runs.\nPlayer 13 facing Player 5.\nPlayer 13 scores 4 runs.\nPlayer 12 facing Player 5.\nPlayer 12 scores 2 runs.\nPlayer 18 facing Player 1.\nPlayer 18 scores 1 runs.\nPlayer 11 facing Player 1.\nPlayer 11 is out!\nPlayer 15 facing Player 5.\nPlayer 15 scores 6 runs.\nPlayer 14 facing Player 6.\nPlayer 14 scores 4 runs.\nPlayer 17 facing Player 3.\nPlayer 17 is out!\nPlayer 16 facing Player 2.\nPlayer 16 scores 4 runs.\nPlayer 13 facing Player 8.\nPlayer 13 scores 2 runs.\nPlayer 12 facing Player 3.\nPlayer 12 scores 1 runs.\nPlayer 18 facing Player 1.\nPlayer 18 scores 1 runs.\nPlayer 11 facing Player 3.\nPlayer 11 is out!\nPlayer 15 facing Player 2.\nPlayer 15 scores 1 runs.\nPlayer 14 facing Player 2.\nPlayer 14 scores 2 runs.\nPlayer 17 facing Player 8.\nPlayer 17 is out!\nPlayer 16 facing Player 1.\nPlayer 16 scores 3 runs.\nPlayer 13 facing Player 3.\nPlayer 13 scores 1 runs.\nPlayer 12 facing Player 2.\nPlayer 12 is out!\nAll out for 49 runs.\nTeam Australia won by 8 wickets.\n0\n0\n",
          "output_type": "stream"
        }
      ]
    },
    {
      "cell_type": "code",
      "source": "",
      "metadata": {},
      "execution_count": null,
      "outputs": []
    },
    {
      "cell_type": "code",
      "source": "",
      "metadata": {},
      "execution_count": null,
      "outputs": []
    }
  ]
}